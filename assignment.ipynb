{
  "nbformat": 4,
  "nbformat_minor": 0,
  "metadata": {
    "colab": {
      "provenance": [],
      "authorship_tag": "ABX9TyPmVkeUBw8YKmRtzPe/3Aj8",
      "include_colab_link": true
    },
    "kernelspec": {
      "name": "python3",
      "display_name": "Python 3"
    },
    "language_info": {
      "name": "python"
    }
  },
  "cells": [
    {
      "cell_type": "markdown",
      "metadata": {
        "id": "view-in-github",
        "colab_type": "text"
      },
      "source": [
        "<a href=\"https://colab.research.google.com/github/Shikhar22255/projects-/blob/main/assignment.ipynb\" target=\"_parent\"><img src=\"https://colab.research.google.com/assets/colab-badge.svg\" alt=\"Open In Colab\"/></a>"
      ]
    },
    {
      "cell_type": "code",
      "source": [
        "import streamlit as st\n",
        "import openai\n",
        "import requests\n",
        "import json\n"
      ],
      "metadata": {
        "id": "AsL7XDE-nW1u"
      },
      "execution_count": null,
      "outputs": []
    },
    {
      "cell_type": "code",
      "source": [
        "def main():\n",
        "    st.title(\"Azure OpenAI GPT-4o Connectivity Test\")\n",
        "\n",
        "    # Azure OpenAI connection details\n",
        "    # Here, we define the API key and endpoint URL for connecting to Azure OpenAI.\n",
        "    azure_openai_key = \"<22ec84421ec24230a3638d1b51e3a7dc>\"  # Replace with your actual key. if you don't have one, get from Azure or from Community https://curious.pm\n",
        "    azure_openai_endpoint = \"<https://internshala.openai.azure.com/openai/deployments/gpt-4o/chat/completions?api-version=2024-08-01-preview>\"  # Replace with your actual endpoint URL\n",
        "\n",
        "    # Button to initiate the connection and request\n",
        "    # User clicks this button to initiate the request to Azure OpenAI.\n",
        "    if st.button(\"Connect and Get Response\"):\n",
        "\n",
        "        # Check if both the key and endpoint are provided\n",
        "        # Ensure that the key and endpoint are not empty before proceeding.\n",
        "        if azure_openai_key and azure_openai_endpoint:\n",
        "            try:\n",
        "                # Setting up headers for the API request\n",
        "                # Define the headers needed for the API request, including the API key for authentication.\n",
        "                headers = {\n",
        "                    \"Content-Type\": \"/content/json\",  # Specifies that we are sending JSON data\n",
        "                    \"api-key\": azure_openai_key  # The API key for authentication\n",
        "                }\n",
        "\n",
        "                # Data to be sent to Azure OpenAI\n",
        "                # Define the payload, which includes the message prompt and token limit.\n",
        "                # **** This is where you can customize the message prompt and token limit. ****\n",
        "                data = {\n",
        "                    \"messages\": [{\"role\": \"user\", \"content\": \"Hello, Azure OpenAI!\"}],  # The message we want the model to respond to\n",
        "                    \"max_tokens\": 50  # Limit the response length\n",
        "                }\n",
        "\n",
        "                # Making the POST request to the Azure OpenAI endpoint\n",
        "                # Send the request to the Azure OpenAI endpoint using the defined headers and data.\n",
        "                response = requests.post(azure_openai_endpoint, headers=headers, json=data)\n",
        "\n",
        "                # Check if the request was successful\n",
        "                # Handle the response, checking the status and displaying the result.\n",
        "                if response.status_code == 200:\n",
        "                    result = response.json()  # Parse the JSON response\n",
        "                    st.success(result[\"choices\"][0][\"message\"][\"content\"].strip())  # Display the response content from the AI\n",
        "                else:\n",
        "                    # Handle errors if the request was not successful\n",
        "                    st.error(f\"Failed to connect or retrieve response: {response.status_code} - {response.text}\")\n",
        "            except Exception as e:\n",
        "                # Handle any exceptions that occur during the request\n",
        "                st.error(f\"Failed to connect or retrieve response: {str(e)}\")\n",
        "        else:\n",
        "            # Warn the user if key or endpoint is missing\n",
        "            st.warning(\"Please enter all the required details.\")\n",
        "\n",
        "if __name__ == \"__main__\":\n",
        "    main()"
      ],
      "metadata": {
        "colab": {
          "base_uri": "https://localhost:8080/"
        },
        "id": "Q-6rcZo0eDPR",
        "outputId": "3aa81dc4-95a1-4a83-8816-cc419d5c60fc"
      },
      "execution_count": null,
      "outputs": [
        {
          "output_type": "stream",
          "name": "stderr",
          "text": [
            "2024-10-21 16:07:57.424 Thread 'MainThread': missing ScriptRunContext! This warning can be ignored when running in bare mode.\n",
            "2024-10-21 16:07:57.427 Thread 'MainThread': missing ScriptRunContext! This warning can be ignored when running in bare mode.\n",
            "2024-10-21 16:07:57.428 Thread 'MainThread': missing ScriptRunContext! This warning can be ignored when running in bare mode.\n",
            "2024-10-21 16:07:57.430 Thread 'MainThread': missing ScriptRunContext! This warning can be ignored when running in bare mode.\n",
            "2024-10-21 16:07:57.432 Thread 'MainThread': missing ScriptRunContext! This warning can be ignored when running in bare mode.\n",
            "2024-10-21 16:07:57.433 Thread 'MainThread': missing ScriptRunContext! This warning can be ignored when running in bare mode.\n",
            "2024-10-21 16:07:57.434 Thread 'MainThread': missing ScriptRunContext! This warning can be ignored when running in bare mode.\n"
          ]
        }
      ]
    },
    {
      "cell_type": "code",
      "source": [
        "!streamlit run app.py"
      ],
      "metadata": {
        "colab": {
          "base_uri": "https://localhost:8080/"
        },
        "id": "B7IbtQmogLSb",
        "outputId": "318dadd9-40ce-4bde-8629-8f02ed81d85d"
      },
      "execution_count": null,
      "outputs": [
        {
          "output_type": "stream",
          "name": "stdout",
          "text": [
            "Usage: streamlit run [OPTIONS] TARGET [ARGS]...\n",
            "Try 'streamlit run --help' for help.\n",
            "\n",
            "Error: Invalid value: File does not exist: app.py\n"
          ]
        }
      ]
    },
    {
      "cell_type": "code",
      "source": [
        "!streamlit run /usr/local/lib/python3.10/dist-packages/colab_kernel_launcher.py"
      ],
      "metadata": {
        "colab": {
          "base_uri": "https://localhost:8080/"
        },
        "id": "a_gRCSAytcza",
        "outputId": "de997e2b-7276-409c-9c67-0f12e54801f5"
      },
      "execution_count": null,
      "outputs": [
        {
          "output_type": "stream",
          "name": "stdout",
          "text": [
            "\n",
            "Collecting usage statistics. To deactivate, set browser.gatherUsageStats to false.\n",
            "\u001b[0m\n",
            "\u001b[0m\n",
            "\u001b[34m\u001b[1m  You can now view your Streamlit app in your browser.\u001b[0m\n",
            "\u001b[0m\n",
            "\u001b[34m  Local URL: \u001b[0m\u001b[1mhttp://localhost:8501\u001b[0m\n",
            "\u001b[34m  Network URL: \u001b[0m\u001b[1mhttp://172.28.0.2:8501\u001b[0m\n",
            "\u001b[34m  External URL: \u001b[0m\u001b[1mhttp://34.106.91.102:8501\u001b[0m\n",
            "\u001b[0m\n",
            "\u001b[34m  Stopping...\u001b[0m\n",
            "^C\n"
          ]
        }
      ]
    }
  ]
}